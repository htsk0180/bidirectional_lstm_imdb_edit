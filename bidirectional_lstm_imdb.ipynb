{
  "cells": [
    {
      "cell_type": "markdown",
      "metadata": {
        "id": "2AuiS3XG59UP"
      },
      "source": [
        "# IMDB verisi üzerinde Bidirectional LSTM'in Basit Bir Uygulaması\n",
        "\n",
        "Bu notebook'da IMDB film inceleme duyarlılığı sınıflandırma veri kümesinde 2 katmanlı çift yönlü bir LSTM eğiteceğiz."
      ]
    },
    {
      "cell_type": "markdown",
      "metadata": {
        "id": "PyGhLdcL59US"
      },
      "source": [
        "## Kurulum"
      ]
    },
    {
      "cell_type": "code",
      "execution_count": 1,
      "metadata": {
        "id": "z5lumCmD59UT"
      },
      "outputs": [],
      "source": [
        "import numpy as np\n",
        "from tensorflow import keras\n",
        "from tensorflow.keras import layers\n",
        "\n",
        "max_features = 20000  # Yalnızca ilk 20 bin kelimeyi dikkate alın\n",
        "maxlen = 200  # Her film incelemesinin yalnızca ilk 200 kelimesini dikkate alın\n"
      ]
    },
    {
      "cell_type": "markdown",
      "metadata": {
        "id": "zcl6Jf8B59UU"
      },
      "source": [
        "## Modeli oluşturalım"
      ]
    },
    {
      "cell_type": "code",
      "execution_count": 2,
      "metadata": {
        "id": "qP7Gn3Sk59UU",
        "colab": {
          "base_uri": "https://localhost:8080/"
        },
        "outputId": "0ab2ab05-8626-4a6f-9385-d3116fe7fdc2"
      },
      "outputs": [
        {
          "output_type": "stream",
          "name": "stdout",
          "text": [
            "Model: \"model\"\n",
            "_________________________________________________________________\n",
            " Layer (type)                Output Shape              Param #   \n",
            "=================================================================\n",
            " input_1 (InputLayer)        [(None, None)]            0         \n",
            "                                                                 \n",
            " embedding (Embedding)       (None, None, 128)         2560000   \n",
            "                                                                 \n",
            " bidirectional (Bidirectiona  (None, None, 128)        98816     \n",
            " l)                                                              \n",
            "                                                                 \n",
            " bidirectional_1 (Bidirectio  (None, 128)              98816     \n",
            " nal)                                                            \n",
            "                                                                 \n",
            " dense (Dense)               (None, 1)                 129       \n",
            "                                                                 \n",
            "=================================================================\n",
            "Total params: 2,757,761\n",
            "Trainable params: 2,757,761\n",
            "Non-trainable params: 0\n",
            "_________________________________________________________________\n"
          ]
        }
      ],
      "source": [
        "# Değişken uzunluklu tamsayı dizileri için girdi\n",
        "inputs = keras.Input(shape=(None,), dtype=\"int32\")\n",
        "# Her tamsayıyı 128 boyutlu bir vektöre gömün\n",
        "x = layers.Embedding(max_features, 128)(inputs)\n",
        "# 2 çift yönlü LSTM ekleyin\n",
        "x = layers.Bidirectional(layers.LSTM(64, return_sequences=True))(x)\n",
        "x = layers.Bidirectional(layers.LSTM(64))(x)\n",
        "# Sınıflandırıcı ekle\n",
        "outputs = layers.Dense(1, activation=\"sigmoid\")(x)\n",
        "model = keras.Model(inputs, outputs)\n",
        "model.summary()\n"
      ]
    },
    {
      "cell_type": "markdown",
      "metadata": {
        "id": "gwg8D3ru59UU"
      },
      "source": [
        "## IMDB film incelemesi için duyarlılık verilerini yükleyin"
      ]
    },
    {
      "cell_type": "code",
      "execution_count": 3,
      "metadata": {
        "id": "PzqNl5l959UV",
        "colab": {
          "base_uri": "https://localhost:8080/"
        },
        "outputId": "7d42f722-8ee5-4f1a-8ba4-1299702fa71f"
      },
      "outputs": [
        {
          "output_type": "stream",
          "name": "stdout",
          "text": [
            "Downloading data from https://storage.googleapis.com/tensorflow/tf-keras-datasets/imdb.npz\n",
            "17464789/17464789 [==============================] - 2s 0us/step\n",
            "25000 Eğitim dizileri\n",
            "25000 Doğrulama dizileri\n"
          ]
        }
      ],
      "source": [
        "(x_train, y_train), (x_val, y_val) = keras.datasets.imdb.load_data(\n",
        "    num_words=max_features\n",
        ")\n",
        "print(len(x_train), \"Eğitim dizileri\")\n",
        "print(len(x_val), \"Doğrulama dizileri\")\n",
        "x_train = keras.preprocessing.sequence.pad_sequences(x_train, maxlen=maxlen)\n",
        "x_val = keras.preprocessing.sequence.pad_sequences(x_val, maxlen=maxlen)\n"
      ]
    },
    {
      "cell_type": "markdown",
      "metadata": {
        "id": "rQGLmuxi59UV"
      },
      "source": [
        "## Modeli eğitin ve değerlendirin\n",
        "\n",
        "Ayrıca [Hugging Face Hub](https://huggingface.co/keras-io/bidirectional-lstm-imdb) üzerinde barındırılan eğitimli modeli kullanabilirdi.."
      ]
    },
    {
      "cell_type": "code",
      "execution_count": 4,
      "metadata": {
        "id": "CDR0QadI59UV",
        "colab": {
          "base_uri": "https://localhost:8080/"
        },
        "outputId": "6cb7e8d0-bd94-4f37-a544-52022d7ad8ed"
      },
      "outputs": [
        {
          "output_type": "stream",
          "name": "stdout",
          "text": [
            "Epoch 1/2\n",
            "782/782 [==============================] - 111s 126ms/step - loss: 0.3809 - accuracy: 0.8272 - val_loss: 0.3284 - val_accuracy: 0.8629\n",
            "Epoch 2/2\n",
            "782/782 [==============================] - 44s 57ms/step - loss: 0.1963 - accuracy: 0.9267 - val_loss: 0.3373 - val_accuracy: 0.8545\n"
          ]
        },
        {
          "output_type": "execute_result",
          "data": {
            "text/plain": [
              "<keras.callbacks.History at 0x7fc0b2c7d4c0>"
            ]
          },
          "metadata": {},
          "execution_count": 4
        }
      ],
      "source": [
        "model.compile(\"adam\", \"binary_crossentropy\", metrics=[\"accuracy\"])\n",
        "model.fit(x_train, y_train, batch_size=32, epochs=2, validation_data=(x_val, y_val))\n"
      ]
    },
    {
      "cell_type": "markdown",
      "source": [
        "## Model parametrelerini optimize edelim"
      ],
      "metadata": {
        "id": "JOtES2xl8lJK"
      }
    },
    {
      "cell_type": "code",
      "source": [
        "# model parametrelerin optimize edilmesi.\n",
        "from tensorflow.keras.wrappers.scikit_learn import KerasClassifier\n",
        "from sklearn.model_selection import GridSearchCV\n",
        "\n",
        "def create_model(optimizer='adam'):\n",
        "    model = keras.Sequential()\n",
        "    model.add(layers.Embedding(max_features, 128))\n",
        "    model.add(layers.Bidirectional(layers.LSTM(64, return_sequences=True)))\n",
        "    model.add(layers.Bidirectional(layers.LSTM(64)))\n",
        "    model.add(layers.Dense(1, activation='sigmoid'))\n",
        "    model.compile(optimizer=optimizer, loss='binary_crossentropy', metrics=['accuracy'])\n",
        "    return model\n",
        "\n",
        "model = KerasClassifier(build_fn=create_model, verbose=0)\n",
        "batch_size = [10, 20, 40, 60, 80, 100]\n",
        "epochs = [2, 3, 5, 10]\n",
        "optimizer = ['SGD', 'RMSprop', 'Adagrad', 'Adadelta', 'Adam', 'Adamax', 'Nadam']\n",
        "param_grid = dict(batch_size=batch_size, epochs=epochs, optimizer=optimizer)\n",
        "grid = GridSearchCV(estimator=model, param_grid=param_grid, n_jobs=-1, cv=3)\n",
        "grid_result = grid.fit(x_train, y_train)\n",
        "\n",
        "# en iyi parametreler\n",
        "print(\"En iyi parametreler: %s with a score of %f\" % (grid_result.best_params_, grid_result.best_score_))\n",
        "\n",
        "# en iyi parametreler ile modelin yeniden eğitilmesi\n",
        "model = create_model(optimizer = 'Adam')\n",
        "model.fit(x_train, y_train, batch_size=100, epochs=10, validation_data=(x_val, y_val))\n",
        "\n",
        "# modelin test verileri ile test edilmesi\n",
        "model.evaluate(x_val, y_val)"
      ],
      "metadata": {
        "id": "ODrUr1GW7q6H"
      },
      "execution_count": null,
      "outputs": []
    }
  ],
  "metadata": {
    "accelerator": "GPU",
    "colab": {
      "provenance": []
    },
    "kernelspec": {
      "display_name": "Python 3",
      "language": "python",
      "name": "python3"
    },
    "language_info": {
      "codemirror_mode": {
        "name": "ipython",
        "version": 3
      },
      "file_extension": ".py",
      "mimetype": "text/x-python",
      "name": "python",
      "nbconvert_exporter": "python",
      "pygments_lexer": "ipython3",
      "version": "3.7.0"
    }
  },
  "nbformat": 4,
  "nbformat_minor": 0
}
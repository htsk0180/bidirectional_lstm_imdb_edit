{
  "cells": [
    {
      "cell_type": "markdown",
      "metadata": {
        "id": "2AuiS3XG59UP"
      },
      "source": [
        "# IMDB verisi üzerinde Bidirectional LSTM'in Basit Bir Uygulaması\n",
        "\n",
        "Bu notebook'da IMDB film inceleme duyarlılığı sınıflandırma veri kümesinde 2 katmanlı çift yönlü bir LSTM eğiteceğiz."
      ]
    },
    {
      "cell_type": "markdown",
      "metadata": {
        "id": "PyGhLdcL59US"
      },
      "source": [
        "## Kurulum"
      ]
    },
    {
      "cell_type": "code",
      "execution_count": null,
      "metadata": {
        "id": "z5lumCmD59UT"
      },
      "outputs": [],
      "source": [
        "import numpy as np\n",
        "from tensorflow import keras\n",
        "from tensorflow.keras import layers\n",
        "\n",
        "max_features = 20000  # Yalnızca ilk 20 bin kelimeyi dikkate alın\n",
        "maxlen = 200  # Her film incelemesinin yalnızca ilk 200 kelimesini dikkate alın\n"
      ]
    },
    {
      "cell_type": "markdown",
      "metadata": {
        "id": "zcl6Jf8B59UU"
      },
      "source": [
        "## Modeli oluşturalım"
      ]
    },
    {
      "cell_type": "code",
      "execution_count": null,
      "metadata": {
        "id": "qP7Gn3Sk59UU"
      },
      "outputs": [],
      "source": [
        "# Değişken uzunluklu tamsayı dizileri için girdi\n",
        "inputs = keras.Input(shape=(None,), dtype=\"int32\")\n",
        "# Her tamsayıyı 128 boyutlu bir vektöre gömün\n",
        "x = layers.Embedding(max_features, 128)(inputs)\n",
        "# 2 çift yönlü LSTM ekleyin\n",
        "x = layers.Bidirectional(layers.LSTM(64, return_sequences=True))(x)\n",
        "x = layers.Bidirectional(layers.LSTM(64))(x)\n",
        "# Sınıflandırıcı ekle\n",
        "outputs = layers.Dense(1, activation=\"sigmoid\")(x)\n",
        "model = keras.Model(inputs, outputs)\n",
        "model.summary()\n"
      ]
    },
    {
      "cell_type": "markdown",
      "metadata": {
        "id": "gwg8D3ru59UU"
      },
      "source": [
        "## IMDB film incelemesi için duyarlılık verilerini yükleyin"
      ]
    },
    {
      "cell_type": "code",
      "execution_count": null,
      "metadata": {
        "id": "PzqNl5l959UV"
      },
      "outputs": [],
      "source": [
        "(x_train, y_train), (x_val, y_val) = keras.datasets.imdb.load_data(\n",
        "    num_words=max_features\n",
        ")\n",
        "print(len(x_train), \"Eğitim dizileri\")\n",
        "print(len(x_val), \"Doğrulama dizileri\")\n",
        "x_train = keras.preprocessing.sequence.pad_sequences(x_train, maxlen=maxlen)\n",
        "x_val = keras.preprocessing.sequence.pad_sequences(x_val, maxlen=maxlen)\n"
      ]
    },
    {
      "cell_type": "markdown",
      "metadata": {
        "id": "rQGLmuxi59UV"
      },
      "source": [
        "## Modeli eğitin ve değerlendirin\n",
        "\n",
        "Ayrıca [Hugging Face Hub](https://huggingface.co/keras-io/bidirectional-lstm-imdb) üzerinde barındırılan eğitimli modeli kullanabilirdi.."
      ]
    },
    {
      "cell_type": "code",
      "execution_count": null,
      "metadata": {
        "id": "CDR0QadI59UV"
      },
      "outputs": [],
      "source": [
        "model.compile(\"adam\", \"binary_crossentropy\", metrics=[\"accuracy\"])\n",
        "model.fit(x_train, y_train, batch_size=32, epochs=2, validation_data=(x_val, y_val))\n"
      ]
    },
    {
      "cell_type": "markdown",
      "source": [
        "## Model parametrelerini optimize edelim"
      ],
      "metadata": {
        "id": "JOtES2xl8lJK"
      }
    },
    {
      "cell_type": "code",
      "source": [
        "# model parametrelerin optimize edilmesi.\n",
        "from tensorflow.keras.wrappers.scikit_learn import KerasClassifier\n",
        "from sklearn.model_selection import GridSearchCV\n",
        "\n",
        "def create_model(optimizer='adam'):\n",
        "    model = keras.Sequential()\n",
        "    model.add(layers.Embedding(max_features, 128))\n",
        "    model.add(layers.Bidirectional(layers.LSTM(64, return_sequences=True)))\n",
        "    model.add(layers.Bidirectional(layers.LSTM(64)))\n",
        "    model.add(layers.Dense(1, activation='sigmoid'))\n",
        "    model.compile(optimizer=optimizer, loss='binary_crossentropy', metrics=['accuracy'])\n",
        "    return model\n",
        "\n",
        "model = KerasClassifier(build_fn=create_model, verbose=0)\n",
        "batch_size = [10, 20, 40, 60, 80, 100]\n",
        "epochs = [2, 3, 5, 10]\n",
        "optimizer = ['SGD', 'RMSprop', 'Adagrad', 'Adadelta', 'Adam', 'Adamax', 'Nadam']\n",
        "param_grid = dict(batch_size=batch_size, epochs=epochs, optimizer=optimizer)\n",
        "grid = GridSearchCV(estimator=model, param_grid=param_grid, n_jobs=-1, cv=3)\n",
        "grid_result = grid.fit(x_train, y_train)\n",
        "\n",
        "# en iyi parametreler\n",
        "print(\"En iyi parametreler: %s with a score of %f\" % (grid_result.best_params_, grid_result.best_score_))\n",
        "\n",
        "# en iyi parametreler ile modelin yeniden eğitilmesi\n",
        "model = create_model(optimizer = 'Adam')\n",
        "model.fit(x_train, y_train, batch_size=100, epochs=10, validation_data=(x_val, y_val))\n",
        "\n",
        "# modelin test verileri ile test edilmesi\n",
        "model.evaluate(x_val, y_val)"
      ],
      "metadata": {
        "id": "ODrUr1GW7q6H"
      },
      "execution_count": null,
      "outputs": []
    },
    {
      "cell_type": "markdown",
      "source": [
        "## Aynı proje üzerinden mimari sabit kalarak optimizer'in değiştirilmesi ( Lion )"
      ],
      "metadata": {
        "id": "-WFA840c_-V7"
      }
    },
    {
      "cell_type": "markdown",
      "source": [
        "Aşağıda Lion Optimizer'in kodu bulunmakta. Bunu direkt olarak https://www.tensorflow.org/api_docs/python/tf/keras/optimizers/Lion belirtildiği üzere de kullanabilirsiniz. İncelemenizi tavsiye ederim. "
      ],
      "metadata": {
        "id": "xRwZcI1ILccj"
      }
    },
    {
      "cell_type": "code",
      "source": [
        "\n",
        "\"\"\"TF2 implementation of the Lion optimizer.\"\"\"\n",
        "\n",
        "import tensorflow.compat.v2 as tf\n",
        "\n",
        "\n",
        "class Lion(tf.keras.optimizers.legacy.Optimizer):\n",
        "  r\"\"\"Optimizer that implements the Lion algorithm.\"\"\"\n",
        "\n",
        "  def __init__(self,\n",
        "               learning_rate=0.0001,\n",
        "               beta_1=0.9,\n",
        "               beta_2=0.99,\n",
        "               wd=0,\n",
        "               name='lion',\n",
        "               **kwargs):\n",
        "    \"\"\"Construct a new Lion optimizer.\"\"\"\n",
        "\n",
        "    super(Lion, self).__init__(name, **kwargs)\n",
        "    self._set_hyper('learning_rate', kwargs.get('lr', learning_rate))\n",
        "    self._set_hyper('beta_1', beta_1)\n",
        "    self._set_hyper('beta_2', beta_2)\n",
        "    self._set_hyper('wd', wd)\n",
        "\n",
        "  def _create_slots(self, var_list):\n",
        "    # Create slots for the first and second moments.\n",
        "    # Separate for-loops to respect the ordering of slot variables from v1.\n",
        "    for var in var_list:\n",
        "      self.add_slot(var, 'm')\n",
        "\n",
        "  def _prepare_local(self, var_device, var_dtype, apply_state):\n",
        "    super(Lion, self)._prepare_local(var_device, var_dtype, apply_state)\n",
        "\n",
        "    beta_1_t = tf.identity(self._get_hyper('beta_1', var_dtype))\n",
        "    beta_2_t = tf.identity(self._get_hyper('beta_2', var_dtype))\n",
        "    wd_t = tf.identity(self._get_hyper('wd', var_dtype))\n",
        "    lr = apply_state[(var_device, var_dtype)]['lr_t']\n",
        "    apply_state[(var_device, var_dtype)].update(\n",
        "        dict(\n",
        "            lr=lr,\n",
        "            beta_1_t=beta_1_t,\n",
        "            one_minus_beta_1_t=1 - beta_1_t,\n",
        "            beta_2_t=beta_2_t,\n",
        "            one_minus_beta_2_t=1 - beta_2_t,\n",
        "            wd_t=wd_t))\n",
        "\n",
        "  @tf.function(jit_compile=True)\n",
        "  def _resource_apply_dense(self, grad, var, apply_state=None):\n",
        "    var_device, var_dtype = var.device, var.dtype.base_dtype\n",
        "    coefficients = ((apply_state or {}).get((var_device, var_dtype)) or\n",
        "                    self._fallback_apply_state(var_device, var_dtype))\n",
        "\n",
        "    m = self.get_slot(var, 'm')\n",
        "    var_t = var.assign_sub(\n",
        "        coefficients['lr_t'] *\n",
        "        (tf.math.sign(m * coefficients['beta_1_t'] +\n",
        "                      grad * coefficients['one_minus_beta_1_t']) +\n",
        "         var * coefficients['wd_t']))\n",
        "    with tf.control_dependencies([var_t]):\n",
        "      m.assign(m * coefficients['beta_2_t'] +\n",
        "               grad * coefficients['one_minus_beta_2_t'])\n",
        "\n",
        "  @tf.function(jit_compile=True)\n",
        "  def _resource_apply_sparse(self, grad, var, indices, apply_state=None):\n",
        "    var_device, var_dtype = var.device, var.dtype.base_dtype\n",
        "    coefficients = ((apply_state or {}).get((var_device, var_dtype)) or\n",
        "                    self._fallback_apply_state(var_device, var_dtype))\n",
        "\n",
        "    m = self.get_slot(var, 'm')\n",
        "    m_t = m.assign(m * coefficients['beta_1_t'])\n",
        "    m_scaled_g_values = grad * coefficients['one_minus_beta_1_t']\n",
        "    m_t = m_t.scatter_add(tf.IndexedSlices(m_scaled_g_values, indices))\n",
        "    var_t = var.assign_sub(coefficients['lr'] *\n",
        "                           (tf.math.sign(m_t) + var * coefficients['wd_t']))\n",
        "\n",
        "    with tf.control_dependencies([var_t]):\n",
        "      m_t = m_t.scatter_add(tf.IndexedSlices(-m_scaled_g_values, indices))\n",
        "      m_t = m_t.assign(m_t * coefficients['beta_2_t'] /\n",
        "                       coefficients['beta_1_t'])\n",
        "      m_scaled_g_values = grad * coefficients['one_minus_beta_2_t']\n",
        "      m_t.scatter_add(tf.IndexedSlices(m_scaled_g_values, indices))\n",
        "\n",
        "  def get_config(self):\n",
        "    config = super(Lion, self).get_config()\n",
        "    config.update({\n",
        "        'learning_rate': self._serialize_hyperparameter('learning_rate'),\n",
        "        'beta_1': self._serialize_hyperparameter('beta_1'),\n",
        "        'beta_2': self._serialize_hyperparameter('beta_2'),\n",
        "        'wd': self._serialize_hyperparameter('wd'),\n",
        "    })\n",
        "    return config\n",
        "\n",
        "\n",
        "import numpy as np\n",
        "from tensorflow import keras\n",
        "from tensorflow.keras import layers\n",
        "\n",
        "max_features = 20000  # Yalnızca ilk 20 bin kelimeyi dikkate alın\n",
        "maxlen = 200  # Her film incelemesinin yalnızca ilk 200 kelimesini dikkate alın\n",
        "# Değişken uzunluklu tamsayı dizileri için girdi\n",
        "inputs = keras.Input(shape=(None,), dtype=\"int32\")\n",
        "# Her tamsayıyı 128 boyutlu bir vektöre gömün\n",
        "x = layers.Embedding(max_features, 128)(inputs)\n",
        "# 2 çift yönlü LSTM ekleyin\n",
        "x = layers.Bidirectional(layers.LSTM(64, return_sequences=True))(x)\n",
        "x = layers.Bidirectional(layers.LSTM(64))(x)\n",
        "# Sınıflandırıcı ekle\n",
        "outputs = layers.Dense(1, activation=\"sigmoid\")(x)\n",
        "model = keras.Model(inputs, outputs)\n",
        "model.summary()\n",
        "(x_train, y_train), (x_val, y_val) = keras.datasets.imdb.load_data(\n",
        "    num_words=max_features\n",
        ")\n",
        "print(len(x_train), \"Eğitim dizileri\")\n",
        "print(len(x_val), \"Doğrulama dizileri\")\n",
        "x_train = keras.preprocessing.sequence.pad_sequences(x_train, maxlen=maxlen)\n",
        "x_val = keras.preprocessing.sequence.pad_sequences(x_val, maxlen=maxlen)\n",
        "\n",
        "#model.compile(\"adam\", \"binary_crossentropy\", metrics=[\"accuracy\"])\n",
        "#model.fit(x_train, y_train, batch_size=32, epochs=2, validation_data=(x_val, y_val))\n",
        "# adam optimizer yerine Lion optimizer kullanıldı\n",
        "model.compile(Lion(), \"binary_crossentropy\", metrics=[\"accuracy\"])\n",
        "model.fit(x_train, y_train, batch_size=32, epochs=5, validation_data=(x_val, y_val))\n"
      ],
      "metadata": {
        "id": "j2QYgesIATIE"
      },
      "execution_count": null,
      "outputs": []
    },
    {
      "cell_type": "markdown",
      "source": [
        "## Torch İle Test'ler"
      ],
      "metadata": {
        "id": "_BL_nqxglzb_"
      }
    },
    {
      "cell_type": "code",
      "source": [
        "###############################\n",
        "# PYTORCH İLE TESTLER\n",
        "###############################\n",
        "\n",
        "import torch\n",
        "from torch.optim.optimizer import Optimizer\n",
        "\n",
        "\n",
        "class Lion(Optimizer):\n",
        "  r\"\"\"Implements Lion algorithm.\"\"\"\n",
        "\n",
        "  def __init__(self, params, lr=1e-4, betas=(0.9, 0.99), weight_decay=0.0):\n",
        "    \"\"\"Initialize the hyperparameters.\n",
        "\n",
        "    Args:\n",
        "      params (iterable): iterable of parameters to optimize or dicts defining\n",
        "        parameter groups\n",
        "      lr (float, optional): learning rate (default: 1e-4)\n",
        "      betas (Tuple[float, float], optional): coefficients used for computing\n",
        "        running averages of gradient and its square (default: (0.9, 0.99))\n",
        "      weight_decay (float, optional): weight decay coefficient (default: 0)\n",
        "    \"\"\"\n",
        "\n",
        "    if not 0.0 <= lr:\n",
        "      raise ValueError('Invalid learning rate: {}'.format(lr))\n",
        "    if not 0.0 <= betas[0] < 1.0:\n",
        "      raise ValueError('Invalid beta parameter at index 0: {}'.format(betas[0]))\n",
        "    if not 0.0 <= betas[1] < 1.0:\n",
        "      raise ValueError('Invalid beta parameter at index 1: {}'.format(betas[1]))\n",
        "    defaults = dict(lr=lr, betas=betas, weight_decay=weight_decay)\n",
        "    super().__init__(params, defaults)\n",
        "\n",
        "  @torch.no_grad()\n",
        "  def step(self, closure=None):\n",
        "    \"\"\"Performs a single optimization step.\n",
        "\n",
        "    Args:\n",
        "      closure (callable, optional): A closure that reevaluates the model\n",
        "        and returns the loss.\n",
        "\n",
        "    Returns:\n",
        "      the loss.\n",
        "    \"\"\"\n",
        "    loss = None\n",
        "    if closure is not None:\n",
        "      with torch.enable_grad():\n",
        "        loss = closure()\n",
        "\n",
        "    for group in self.param_groups:\n",
        "      for p in group['params']:\n",
        "        if p.grad is None:\n",
        "          continue\n",
        "\n",
        "        # Perform stepweight decay\n",
        "        p.data.mul_(1 - group['lr'] * group['weight_decay'])\n",
        "\n",
        "        grad = p.grad\n",
        "        state = self.state[p]\n",
        "        # State initialization\n",
        "        if len(state) == 0:\n",
        "          # Exponential moving average of gradient values\n",
        "          state['exp_avg'] = torch.zeros_like(p)\n",
        "\n",
        "        exp_avg = state['exp_avg']\n",
        "        beta1, beta2 = group['betas']\n",
        "\n",
        "        # Weight update\n",
        "        update = exp_avg * beta1 + grad * (1 - beta1)\n",
        "        p.add_(torch.sign(update), alpha=-group['lr'])\n",
        "        # Decay the momentum running average coefficient\n",
        "        exp_avg.mul_(beta2).add_(grad, alpha=1 - beta2)\n",
        "\n",
        "    return loss\n",
        "\n",
        "# data manipulation\n",
        "import pandas as pd\n",
        "import numpy as np\n",
        "\n",
        "# data visualization\n",
        "import matplotlib.pyplot as plt\n",
        "import seaborn as sns\n",
        "\n",
        "# text processing\n",
        "import re\n",
        "import nltk\n",
        "from nltk.tokenize import word_tokenize, sent_tokenize\n",
        "from nltk.corpus import stopwords\n",
        "from nltk.stem.wordnet import WordNetLemmatizer\n",
        "nltk.download('stopwords')\n",
        "nltk.download('punkt')\n",
        "nltk.download('wordnet')\n",
        "stopwords = set(stopwords.words('english'))\n",
        "\n",
        "# pytorch\n",
        "import torch\n",
        "from torch import nn\n",
        "from torch.optim import Adam\n",
        "from torch.utils.data import TensorDataset, DataLoader\n",
        "\n",
        "# sklearn\n",
        "from sklearn.metrics import classification_report, confusion_matrix\n",
        "\n",
        "# utils\n",
        "import os\n",
        "from tqdm import tqdm\n",
        "tqdm.pandas()\n",
        "from collections import Counter\n",
        "data = pd.read_csv('/content/IMDB Dataset.csv')\n",
        "data.head()\n",
        "\n",
        "def transform_label(label):\n",
        "    return 1 if label == 'positive' else 0\n",
        "\n",
        "data['label'] = data['sentiment'].progress_apply(transform_label)\n",
        "data.head()\n",
        "\n",
        "data.sentiment.value_counts()\n",
        "\n",
        "data['token_length'] = data.review.progress_apply(lambda x: len(x.split()))\n",
        "\n",
        "data_pos = data[data['label'] == 1]\n",
        "data_pos['token_length'].describe()\n",
        "\n",
        "data_neg = data[data['label'] == 0]\n",
        "data_neg['token_length'].describe()\n",
        "\n",
        "plt.figure(figsize=(5, 8))\n",
        "sns.displot(data_pos, x='token_length')\n",
        "plt.title('Positive Token Length Distribution')\n",
        "plt.show()\n",
        "\n",
        "plt.figure(figsize=(5, 8))\n",
        "sns.displot(data_pos, x='token_length')\n",
        "plt.title('Negative Token Length Distribution')\n",
        "plt.show()\n",
        "\n",
        "# see most minimum length token\n",
        "print('Positive')\n",
        "print(data_pos[data_pos['token_length'] == data_pos['token_length'].min()]['review'].item())\n",
        "print()\n",
        "print('Negative')\n",
        "print(data_neg[data_neg['token_length'] == data_neg['token_length'].min()]['review'].item())\n",
        "\n",
        "# text cleaning\n",
        "\n",
        "def rm_link(text):\n",
        "    return re.sub(r'https?://\\S+|www\\.\\S+', '', text)\n",
        "\n",
        "# handle case like \"shut up okay?Im only 10 years old\"\n",
        "# become \"shut up okay Im only 10 years old\"\n",
        "def rm_punct2(text):\n",
        "    # return re.sub(r'[\\!\\\"\\#\\$\\%\\&\\'\\(\\)\\*\\+\\,\\-\\.\\/\\:\\;\\<\\=\\>\\?\\@\\[\\\\\\]\\^\\_\\`\\{\\|\\}\\~]', ' ', text)\n",
        "    return re.sub(r'[\\\"\\#\\$\\%\\&\\'\\(\\)\\*\\+\\/\\:\\;\\<\\=\\>\\@\\[\\\\\\]\\^\\_\\`\\{\\|\\}\\~]', ' ', text)\n",
        "\n",
        "def rm_html(text):\n",
        "    return re.sub(r'<[^>]+>', '', text)\n",
        "\n",
        "def space_bt_punct(text):\n",
        "    pattern = r'([.,!?-])'\n",
        "    s = re.sub(pattern, r' \\1 ', text)     # add whitespaces between punctuation\n",
        "    s = re.sub(r'\\s{2,}', ' ', s)        # remove double whitespaces    \n",
        "    return s\n",
        "\n",
        "def rm_number(text):\n",
        "    return re.sub(r'\\d+', '', text)\n",
        "\n",
        "def rm_whitespaces(text):\n",
        "    return re.sub(r' +', ' ', text)\n",
        "\n",
        "def rm_nonascii(text):\n",
        "    return re.sub(r'[^\\x00-\\x7f]', r'', text)\n",
        "\n",
        "def rm_emoji(text):\n",
        "    emojis = re.compile(\n",
        "        '['\n",
        "        u'\\U0001F600-\\U0001F64F'  # emoticons\n",
        "        u'\\U0001F300-\\U0001F5FF'  # symbols & pictographs\n",
        "        u'\\U0001F680-\\U0001F6FF'  # transport & map symbols\n",
        "        u'\\U0001F1E0-\\U0001F1FF'  # flags (iOS)\n",
        "        u'\\U00002702-\\U000027B0'\n",
        "        u'\\U000024C2-\\U0001F251'\n",
        "        ']+',\n",
        "        flags=re.UNICODE\n",
        "    )\n",
        "    return emojis.sub(r'', text)\n",
        "\n",
        "def spell_correction(text):\n",
        "    return re.sub(r'(.)\\1+', r'\\1\\1', text)\n",
        "\n",
        "def clean_pipeline(text):    \n",
        "    no_link = rm_link(text)\n",
        "    no_html = rm_html(no_link)\n",
        "    space_punct = space_bt_punct(no_html)\n",
        "    no_punct = rm_punct2(space_punct)\n",
        "    no_number = rm_number(no_punct)\n",
        "    no_whitespaces = rm_whitespaces(no_number)\n",
        "    no_nonasci = rm_nonascii(no_whitespaces)\n",
        "    no_emoji = rm_emoji(no_nonasci)\n",
        "    spell_corrected = spell_correction(no_emoji)\n",
        "    return spell_corrected\n",
        "\n",
        "# preprocessing\n",
        "def tokenize(text):\n",
        "    return word_tokenize(text)\n",
        "\n",
        "def rm_stopwords(text):\n",
        "    return [i for i in text if i not in stopwords]\n",
        "\n",
        "def lemmatize(text):\n",
        "    lemmatizer = WordNetLemmatizer()    \n",
        "    lemmas = [lemmatizer.lemmatize(t) for t in text]\n",
        "    # make sure lemmas does not contains sotpwords\n",
        "    return rm_stopwords(lemmas)\n",
        "\n",
        "def preprocess_pipeline(text):\n",
        "    tokens = tokenize(text)\n",
        "    no_stopwords = rm_stopwords(tokens)\n",
        "    lemmas = lemmatize(no_stopwords)\n",
        "    return ' '.join(lemmas)\n",
        "\n",
        "data['clean'] = data['review'].progress_apply(clean_pipeline)\n",
        "data['processed'] = data['clean'].progress_apply(preprocess_pipeline)\n",
        "data.head()\n",
        "\n",
        "# keep only processed and label columns\n",
        "data[['processed', 'label']].to_csv('./imdb_processed.csv', index=False, header=True)\n",
        "\n",
        "# read processed data\n",
        "data = pd.read_csv('./imdb_processed.csv')\n",
        "\n",
        "for row in data[:2].iterrows():\n",
        "    print(row[1]['processed'])\n",
        "    print(f'Label: {row[1][\"label\"]}')    \n",
        "    print('\\n')\n",
        "\n",
        "# get all processed reviews\n",
        "reviews = data.processed.values\n",
        "# merge into single variable, separated by whitespaces\n",
        "words = ' '.join(reviews)\n",
        "# obtain list of words\n",
        "words = words.split()\n",
        "\n",
        "# check our list\n",
        "words[:10]\n",
        "\n",
        "# build vocabulary\n",
        "counter = Counter(words)\n",
        "vocab = sorted(counter, key=counter.get, reverse=True)\n",
        "int2word = dict(enumerate(vocab, 1))\n",
        "int2word[0] = '<PAD>'\n",
        "word2int = {word: id for id, word in int2word.items()}\n",
        "\n",
        "# encode words\n",
        "reviews_enc = [[word2int[word] for word in review.split()] for review in tqdm(reviews)]\n",
        "\n",
        "# print first-10 words of first 5 reviews\n",
        "for i in range(5):\n",
        "    print(reviews_enc[i][:5])\n",
        "\n",
        "# padding sequences\n",
        "\n",
        "def pad_features(reviews, pad_id, seq_length=128):\n",
        "    # features = np.zeros((len(reviews), seq_length), dtype=int)\n",
        "    features = np.full((len(reviews), seq_length), pad_id, dtype=int)\n",
        "\n",
        "    for i, row in enumerate(reviews):\n",
        "        # if seq_length < len(row) then review will be trimmed\n",
        "        features[i, :len(row)] = np.array(row)[:seq_length]\n",
        "\n",
        "    return features\n",
        "\n",
        "seq_length = 256\n",
        "features = pad_features(reviews_enc, pad_id=word2int['<PAD>'], seq_length=seq_length)\n",
        "\n",
        "assert len(features) == len(reviews_enc)\n",
        "assert len(features[0]) == seq_length\n",
        "\n",
        "features[:10, :10]\n",
        "\n",
        "# get labels as numpy\n",
        "labels = data.label.to_numpy()\n",
        "labels\n",
        "\n",
        "# train test split\n",
        "train_size = .7     # we will use 80% of whole data as train set\n",
        "val_size = .5       # and we will use 50% of test set as validation set\n",
        "\n",
        "# make train set\n",
        "split_id = int(len(features) * train_size)\n",
        "train_x, remain_x = features[:split_id], features[split_id:]\n",
        "train_y, remain_y = labels[:split_id], labels[split_id:]\n",
        "\n",
        "# make val and test set\n",
        "split_val_id = int(len(remain_x) * val_size)\n",
        "val_x, test_x = remain_x[:split_val_id], remain_x[split_val_id:]\n",
        "val_y, test_y = remain_y[:split_val_id], remain_y[split_val_id:]\n",
        "\n",
        "# print out the shape\n",
        "print('Feature Shapes:')\n",
        "print('===============')\n",
        "print('Train set: {}'.format(train_x.shape))\n",
        "print('Validation set: {}'.format(val_x.shape))\n",
        "print('Test set: {}'.format(test_x.shape))\n",
        "\n",
        "print(len(train_y[train_y == 0]), len(train_y[train_y == 1]))\n",
        "print(len(val_y[val_y == 0]), len(val_y[val_y == 1]))\n",
        "print(len(test_y[test_y == 0]), len(test_y[test_y == 1]))\n",
        "\n",
        "# define batch size\n",
        "batch_size = 128\n",
        "\n",
        "# create tensor datasets\n",
        "trainset = TensorDataset(torch.from_numpy(train_x), torch.from_numpy(train_y))\n",
        "validset = TensorDataset(torch.from_numpy(val_x), torch.from_numpy(val_y))\n",
        "testset = TensorDataset(torch.from_numpy(test_x), torch.from_numpy(test_y))\n",
        "\n",
        "# create dataloaders\n",
        "trainloader = DataLoader(trainset, shuffle=True, batch_size=batch_size)\n",
        "valloader = DataLoader(validset, shuffle=True, batch_size=batch_size)\n",
        "testloader = DataLoader(testset, shuffle=True, batch_size=batch_size)\n",
        "\n",
        "\n",
        "\n",
        "# model architecture\n",
        "\n",
        "class SentimentModel(nn.Module):\n",
        "    def __init__(self, vocab_size, output_size, hidden_size=128, embedding_size=400, n_layers=2, dropout=0.2):\n",
        "        super(SentimentModel, self).__init__()\n",
        "\n",
        "    # embedding layer is useful to map input into vector representation\n",
        "        self.embedding = nn.Embedding(vocab_size, embedding_size)\n",
        "\n",
        "        # LSTM layer preserved by PyTorch library\n",
        "        self.lstm = nn.LSTM(embedding_size, hidden_size, n_layers, dropout=dropout, bidirectional=True, batch_first=True)\n",
        "\n",
        "        # dropout layer\n",
        "        self.dropout = nn.Dropout(0.3)\n",
        "\n",
        "        # Linear layer for output\n",
        "        self.fc = nn.Linear(hidden_size*2, output_size)\n",
        "\n",
        "        # Sigmoid layer cz we will have binary classification\n",
        "        self.sigmoid = nn.Sigmoid()\n",
        "        \n",
        "    def forward(self, x):\n",
        "        \n",
        "        # convert feature to long\n",
        "        x = x.long()\n",
        "\n",
        "        # map input to vector\n",
        "        x = self.embedding(x)\n",
        "\n",
        "        # pass forward to lstm\n",
        "        o, _ =  self.lstm(x)\n",
        "\n",
        "        # get last sequence output\n",
        "        o = o[:, -1, :]\n",
        "\n",
        "        # apply dropout and fully connected layer\n",
        "        o = self.dropout(o)\n",
        "        o = self.fc(o)\n",
        "\n",
        "        # sigmoid\n",
        "        o = self.sigmoid(o)\n",
        "\n",
        "        return o\n",
        "    \n",
        "\n",
        "# define training device\n",
        "device = torch.device('cuda' if torch.cuda.is_available() else 'cpu')\n",
        "print(device)\n",
        "\n",
        "# model hyperparamters\n",
        "vocab_size = len(word2int)\n",
        "output_size = 1\n",
        "embedding_size = 256\n",
        "hidden_size = 512\n",
        "n_layers = 2\n",
        "dropout=0.25\n",
        "\n",
        "# model initialization\n",
        "model = SentimentModel(vocab_size, output_size, hidden_size, embedding_size, n_layers, dropout)\n",
        "print(model)\n",
        "\n",
        "# training config\n",
        "lr = 0.001\n",
        "criterion = nn.BCELoss()  # we use BCELoss cz we have binary classification problem\n",
        "#optim = Adam(model.parameters(), lr=lr)\n",
        "# lion optimizer\n",
        "optim = Lion(model.parameters(), lr=lr)\n",
        "grad_clip = 5\n",
        "epochs = 8\n",
        "print_every = 1\n",
        "history = {\n",
        "    'train_loss': [],\n",
        "    'train_acc': [],\n",
        "    'val_loss': [],\n",
        "    'val_acc': [],\n",
        "    'epochs': epochs\n",
        "}\n",
        "es_limit = 5\n",
        "\n",
        "# train loop\n",
        "model = model.to(device)\n",
        "\n",
        "epochloop = tqdm(range(epochs), position=0, desc='Training', leave=True)\n",
        "\n",
        "# early stop trigger\n",
        "es_trigger = 0\n",
        "val_loss_min = torch.inf\n",
        "\n",
        "for e in epochloop:\n",
        "\n",
        "    #################\n",
        "    # training mode #\n",
        "    #################\n",
        "\n",
        "    model.train()\n",
        "\n",
        "    train_loss = 0\n",
        "    train_acc = 0\n",
        "\n",
        "    for id, (feature, target) in enumerate(trainloader):\n",
        "        # add epoch meta info\n",
        "        epochloop.set_postfix_str(f'Training batch {id}/{len(trainloader)}')\n",
        "\n",
        "        # move to device\n",
        "        feature, target = feature.to(device), target.to(device)\n",
        "\n",
        "        # reset optimizer\n",
        "        optim.zero_grad()\n",
        "\n",
        "        # forward pass\n",
        "        out = model(feature)\n",
        "\n",
        "        # acc\n",
        "        predicted = torch.tensor([1 if i == True else 0 for i in out > 0.5], device=device)\n",
        "        equals = predicted == target\n",
        "        acc = torch.mean(equals.type(torch.FloatTensor))\n",
        "        train_acc += acc.item()\n",
        "\n",
        "        # loss\n",
        "        loss = criterion(out.squeeze(), target.float())\n",
        "        train_loss += loss.item()\n",
        "        loss.backward()\n",
        "\n",
        "        # clip grad\n",
        "        nn.utils.clip_grad_norm_(model.parameters(), grad_clip)\n",
        "\n",
        "        # update optimizer\n",
        "        optim.step()\n",
        "\n",
        "        # free some memory\n",
        "        del feature, target, predicted\n",
        "\n",
        "    history['train_loss'].append(train_loss / len(trainloader))\n",
        "    history['train_acc'].append(train_acc / len(trainloader))\n",
        "\n",
        "    ####################\n",
        "    # validation model #\n",
        "    ####################\n",
        "\n",
        "    model.eval()\n",
        "\n",
        "    val_loss = 0\n",
        "    val_acc = 0\n",
        "\n",
        "    with torch.no_grad():\n",
        "        for id, (feature, target) in enumerate(valloader):\n",
        "            # add epoch meta info\n",
        "            epochloop.set_postfix_str(f'Validation batch {id}/{len(valloader)}')\n",
        "            \n",
        "            # move to device\n",
        "            feature, target = feature.to(device), target.to(device)\n",
        "\n",
        "            # forward pass\n",
        "            out = model(feature)\n",
        "\n",
        "            # acc\n",
        "            predicted = torch.tensor([1 if i == True else 0 for i in out > 0.5], device=device)\n",
        "            equals = predicted == target\n",
        "            acc = torch.mean(equals.type(torch.FloatTensor))\n",
        "            val_acc += acc.item()\n",
        "\n",
        "            # loss\n",
        "            loss = criterion(out.squeeze(), target.float())\n",
        "            val_loss += loss.item()\n",
        "\n",
        "            # free some memory\n",
        "            del feature, target, predicted\n",
        "\n",
        "        history['val_loss'].append(val_loss / len(valloader))\n",
        "        history['val_acc'].append(val_acc / len(valloader))\n",
        "\n",
        "    # reset model mode\n",
        "    model.train()\n",
        "\n",
        "    # add epoch meta info\n",
        "    epochloop.set_postfix_str(f'Val Loss: {val_loss / len(valloader):.3f} | Val Acc: {val_acc / len(valloader):.3f}')\n",
        "\n",
        "    # print epoch\n",
        "    if (e+1) % print_every == 0:\n",
        "        epochloop.write(f'Epoch {e+1}/{epochs} | Train Loss: {train_loss / len(trainloader):.3f} Train Acc: {train_acc / len(trainloader):.3f} | Val Loss: {val_loss / len(valloader):.3f} Val Acc: {val_acc / len(valloader):.3f}')\n",
        "        epochloop.update()\n",
        "\n",
        "    # save model if validation loss decrease\n",
        "    if val_loss / len(valloader) <= val_loss_min:\n",
        "        torch.save(model.state_dict(), './sentiment_lstm.pt')\n",
        "        val_loss_min = val_loss / len(valloader)\n",
        "        es_trigger = 0\n",
        "    else:\n",
        "        epochloop.write(f'[WARNING] Validation loss did not improved ({val_loss_min:.3f} --> {val_loss / len(valloader):.3f})')\n",
        "        es_trigger += 1\n",
        "\n",
        "    # force early stop\n",
        "    if es_trigger >= es_limit:\n",
        "        epochloop.write(f'Early stopped at Epoch-{e+1}')\n",
        "        # update epochs history\n",
        "        history['epochs'] = e+1\n",
        "        break\n",
        "    \n",
        "\n",
        "# plot loss\n",
        "plt.figure(figsize=(6, 8))\n",
        "plt.plot(range(history['epochs']), history['train_acc'], label='Train Acc')\n",
        "plt.plot(range(history['epochs']), history['val_acc'], label='Val Acc')\n",
        "plt.legend()\n",
        "plt.show()\n",
        "\n",
        "# plot loss\n",
        "plt.figure(figsize=(6, 8))\n",
        "plt.plot(range(history['epochs']), history['train_loss'], label='Train Loss')\n",
        "plt.plot(range(history['epochs']), history['val_loss'], label='Val Loss')\n",
        "plt.legend()\n",
        "plt.show()\n",
        "\n",
        "# test loop\n",
        "model.eval()\n",
        "\n",
        "# metrics\n",
        "test_loss = 0\n",
        "test_acc = 0\n",
        "\n",
        "all_target = []\n",
        "all_predicted = []\n",
        "\n",
        "testloop = tqdm(testloader, leave=True, desc='Inference')\n",
        "with torch.no_grad():\n",
        "    for feature, target in testloop:\n",
        "        feature, target = feature.to(device), target.to(device)\n",
        "\n",
        "        out = model(feature)\n",
        "        \n",
        "        predicted = torch.tensor([1 if i == True else 0 for i in out > 0.5], device=device)\n",
        "        equals = predicted == target\n",
        "        acc = torch.mean(equals.type(torch.FloatTensor))\n",
        "        test_acc += acc.item()\n",
        "\n",
        "        loss = criterion(out.squeeze(), target.float())\n",
        "        test_loss += loss.item()\n",
        "\n",
        "        all_target.extend(target.cpu().numpy())\n",
        "        all_predicted.extend(predicted.cpu().numpy())\n",
        "\n",
        "    print(f'Accuracy: {test_acc/len(testloader):.4f}, Loss: {test_loss/len(testloader):.4f}')"
      ],
      "metadata": {
        "colab": {
          "base_uri": "https://localhost:8080/",
          "height": 1000
        },
        "id": "Jep4WgR2t4jd",
        "outputId": "10a52d2d-01b0-46a0-823a-d35d57e9a1a3"
      },
      "execution_count": 2,
      "outputs": [
        {
          "output_type": "stream",
          "name": "stderr",
          "text": [
            "[nltk_data] Downloading package stopwords to /root/nltk_data...\n",
            "[nltk_data]   Package stopwords is already up-to-date!\n",
            "[nltk_data] Downloading package punkt to /root/nltk_data...\n",
            "[nltk_data]   Package punkt is already up-to-date!\n",
            "[nltk_data] Downloading package wordnet to /root/nltk_data...\n",
            "[nltk_data]   Package wordnet is already up-to-date!\n",
            "100%|██████████| 50000/50000 [00:00<00:00, 763486.37it/s]\n",
            "100%|██████████| 50000/50000 [00:00<00:00, 87798.45it/s]\n"
          ]
        },
        {
          "output_type": "display_data",
          "data": {
            "text/plain": [
              "<Figure size 500x800 with 0 Axes>"
            ]
          },
          "metadata": {}
        },
        {
          "output_type": "display_data",
          "data": {
            "text/plain": [
              "<Figure size 500x500 with 1 Axes>"
            ],
            "image/png": "[encoded data removed]"
          },
          "metadata": {}
        },
        {
          "output_type": "display_data",
          "data": {
            "text/plain": [
              "<Figure size 500x800 with 0 Axes>"
            ]
          },
          "metadata": {}
        },
        {
          "output_type": "display_data",
          "data": {
            "text/plain": [
              "<Figure size 500x500 with 1 Axes>"
            ],
            "image/png": "[encoded data removed]"
          },
          "metadata": {}
        },
        {
          "output_type": "stream",
          "name": "stdout",
          "text": [
            "Positive\n",
            "Brilliant and moving performances by Tom Courtenay and Peter Finch.\n",
            "\n",
            "Negative\n",
            "Primary plot!Primary direction!Poor interpretation.\n"
          ]
        },
        {
          "output_type": "stream",
          "name": "stderr",
          "text": [
            "100%|██████████| 50000/50000 [00:17<00:00, 2882.14it/s]\n",
            "100%|██████████| 50000/50000 [01:52<00:00, 446.30it/s]\n"
          ]
        },
        {
          "output_type": "stream",
          "name": "stdout",
          "text": [
            "One reviewer mentioned watching Oz episode hooked . They right , exactly happened . The first thing struck Oz brutality unflinching scene violence , set right word GO . Trust , show faint hearted timid . This show pull punch regard drug , sex violence . Its hardcore , classic use word . It called OZ nickname given Oswald Maximum Security State Penitentary . It focus mainly Emerald City , experimental section prison cell glass front face inwards , privacy high agenda . Em City home many . . Aryans , Muslims , gangsta , Latinos , Christians , Italians , Irish . . . . scuffle , death stare , dodgy dealing shady agreement never far away . I would say main appeal show due fact go show dare . Forget pretty picture painted mainstream audience , forget charm , forget romance . . . OZ mess around . The first episode I ever saw struck nasty surreal , I say I ready , I watched , I developed taste Oz , got accustomed high level graphic violence . Not violence , injustice crooked guard sold nickel , inmate kill order get away , well mannered , middle class inmate turned prison bitch due lack street skill prison experience Watching Oz , may become comfortable uncomfortable viewing . . . . thats get touch darker side .\n",
            "Label: 1\n",
            "\n",
            "\n",
            "A wonderful little production . The filming technique unassuming - old - time - BBC fashion give comforting , sometimes discomforting , sense realism entire piece . The actor extremely well chosen - Michael Sheen got polari voice pat ! You truly see seamless editing guided reference Williams diary entry , well worth watching terrificly written performed piece . A masterful production one great master comedy life . The realism really come home little thing fantasy guard , rather use traditional dream technique remains solid disappears . It play knowledge sens , particularly scene concerning Orton Halliwell set particularly flat Halliwell mural decorating every surface terribly well done .\n",
            "Label: 1\n",
            "\n",
            "\n"
          ]
        },
        {
          "output_type": "stream",
          "name": "stderr",
          "text": [
            "100%|██████████| 50000/50000 [00:01<00:00, 28811.58it/s]\n"
          ]
        },
        {
          "output_type": "stream",
          "name": "stdout",
          "text": [
            "[191, 1083, 930, 81, 3724]\n",
            "[47, 328, 59, 244, 1]\n",
            "[3, 95, 328, 30, 1041]\n",
            "[2408, 136, 59, 241, 3230]\n",
            "[70982, 10566, 1081, 1941, 7538]\n",
            "Feature Shapes:\n",
            "===============\n",
            "Train set: (35000, 256)\n",
            "Validation set: (7500, 256)\n",
            "Test set: (7500, 256)\n",
            "17510 17490\n",
            "3753 3747\n",
            "3737 3763\n",
            "cuda\n",
            "SentimentModel(\n",
            "  (embedding): Embedding(121301, 256)\n",
            "  (lstm): LSTM(256, 512, num_layers=2, batch_first=True, dropout=0.25, bidirectional=True)\n",
            "  (dropout): Dropout(p=0.3, inplace=False)\n",
            "  (fc): Linear(in_features=1024, out_features=1, bias=True)\n",
            "  (sigmoid): Sigmoid()\n",
            ")\n"
          ]
        },
        {
          "output_type": "stream",
          "name": "stderr",
          "text": [
            "Training:  12%|█▎        | 1/8 [02:57<20:43, 177.60s/it, Val Loss: 0.699 | Val Acc: 0.502]"
          ]
        },
        {
          "output_type": "stream",
          "name": "stdout",
          "text": [
            "Epoch 1/8 | Train Loss: 0.699 Train Acc: 0.500 | Val Loss: 0.699 Val Acc: 0.502\n"
          ]
        },
        {
          "output_type": "stream",
          "name": "stderr",
          "text": [
            "Training:  38%|███▊      | 3/8 [06:03<10:22, 124.51s/it, Training batch 0/274]            "
          ]
        },
        {
          "output_type": "stream",
          "name": "stdout",
          "text": [
            "Epoch 2/8 | Train Loss: 0.697 Train Acc: 0.503 | Val Loss: 0.700 Val Acc: 0.507\n",
            "[WARNING] Validation loss did not improved (0.699 --> 0.700)\n"
          ]
        },
        {
          "output_type": "stream",
          "name": "stderr",
          "text": [
            "Training:  62%|██████▎   | 5/8 [09:08<07:25, 148.36s/it, Training batch 0/274]            "
          ]
        },
        {
          "output_type": "stream",
          "name": "stdout",
          "text": [
            "Epoch 3/8 | Train Loss: 0.689 Train Acc: 0.517 | Val Loss: 0.704 Val Acc: 0.521\n",
            "[WARNING] Validation loss did not improved (0.699 --> 0.704)\n"
          ]
        },
        {
          "output_type": "stream",
          "name": "stderr",
          "text": [
            "Training:  75%|███████▌  | 6/8 [12:13<03:57, 118.75s/it, Val Loss: 0.676 | Val Acc: 0.602]"
          ]
        },
        {
          "output_type": "stream",
          "name": "stdout",
          "text": [
            "Epoch 4/8 | Train Loss: 0.662 Train Acc: 0.584 | Val Loss: 0.676 Val Acc: 0.602\n"
          ]
        },
        {
          "output_type": "stream",
          "name": "stderr",
          "text": [
            "Training:  88%|████████▊ | 7/8 [15:18<02:16, 137.00s/it, Val Loss: 0.648 | Val Acc: 0.662]"
          ]
        },
        {
          "output_type": "stream",
          "name": "stdout",
          "text": [
            "Epoch 5/8 | Train Loss: 0.567 Train Acc: 0.724 | Val Loss: 0.648 Val Acc: 0.662\n"
          ]
        },
        {
          "output_type": "stream",
          "name": "stderr",
          "text": [
            "Training: 9it [18:22, 123.03s/it, Val Loss: 0.599 | Val Acc: 0.715]                      "
          ]
        },
        {
          "output_type": "stream",
          "name": "stdout",
          "text": [
            "Epoch 6/8 | Train Loss: 0.491 Train Acc: 0.776 | Val Loss: 0.599 Val Acc: 0.715\n"
          ]
        },
        {
          "output_type": "stream",
          "name": "stderr",
          "text": [
            "Training: 10it [21:27, 140.84s/it, Val Loss: 0.577 | Val Acc: 0.738]"
          ]
        },
        {
          "output_type": "stream",
          "name": "stdout",
          "text": [
            "Epoch 7/8 | Train Loss: 0.417 Train Acc: 0.823 | Val Loss: 0.577 Val Acc: 0.738\n"
          ]
        },
        {
          "output_type": "stream",
          "name": "stderr",
          "text": [
            "Training: 11it [24:31, 153.50s/it, Val Loss: 0.551 | Val Acc: 0.764]"
          ]
        },
        {
          "output_type": "stream",
          "name": "stdout",
          "text": [
            "Epoch 8/8 | Train Loss: 0.360 Train Acc: 0.856 | Val Loss: 0.551 Val Acc: 0.764\n"
          ]
        },
        {
          "output_type": "stream",
          "name": "stderr",
          "text": [
            "\rTraining: 100%|██████████| 8/8 [24:31<00:00, 183.94s/it, Val Loss: 0.551 | Val Acc: 0.764]\n"
          ]
        },
        {
          "output_type": "display_data",
          "data": {
            "text/plain": [
              "<Figure size 600x800 with 1 Axes>"
            ],
            "image/png": "[encoded data removed]"
          },
          "metadata": {}
        },
        {
          "output_type": "display_data",
          "data": {
            "text/plain": [
              "<Figure size 600x800 with 1 Axes>"
            ],
            "image/png": "[encoded data removed]"
          },
          "metadata": {}
        },
        {
          "output_type": "stream",
          "name": "stderr",
          "text": [
            "Inference: 100%|██████████| 59/59 [00:11<00:00,  5.00it/s]"
          ]
        },
        {
          "output_type": "stream",
          "name": "stdout",
          "text": [
            "Accuracy: 0.7606, Loss: 0.5511\n"
          ]
        },
        {
          "output_type": "stream",
          "name": "stderr",
          "text": [
            "\n"
          ]
        }
      ]
    }
  ],
  "metadata": {
    "colab": {
      "provenance": []
    },
    "kernelspec": {
      "display_name": "Python 3",
      "language": "python",
      "name": "python3"
    },
    "language_info": {
      "codemirror_mode": {
        "name": "ipython",
        "version": 3
      },
      "file_extension": ".py",
      "mimetype": "text/x-python",
      "name": "python",
      "nbconvert_exporter": "python",
      "pygments_lexer": "ipython3",
      "version": "3.7.0"
    },
    "gpuClass": "standard",
    "accelerator": "GPU"
  },
  "nbformat": 4,
  "nbformat_minor": 0
}